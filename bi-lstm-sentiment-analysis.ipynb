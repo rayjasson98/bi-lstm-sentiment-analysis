{
 "cells": [
  {
   "cell_type": "markdown",
   "id": "c463905b",
   "metadata": {
    "papermill": {
     "duration": 0.11265,
     "end_time": "2022-01-29T08:47:45.321961",
     "exception": false,
     "start_time": "2022-01-29T08:47:45.209311",
     "status": "completed"
    },
    "tags": []
   },
   "source": [
    "### Read News Dataset & Text Cleaning"
   ]
  },
  {
   "cell_type": "code",
   "execution_count": 1,
   "id": "610b1edc",
   "metadata": {
    "execution": {
     "iopub.execute_input": "2022-01-29T08:47:45.576026Z",
     "iopub.status.busy": "2022-01-29T08:47:45.573075Z",
     "iopub.status.idle": "2022-01-29T08:48:00.157008Z",
     "shell.execute_reply": "2022-01-29T08:48:00.156248Z"
    },
    "papermill": {
     "duration": 14.739046,
     "end_time": "2022-01-29T08:48:00.157220",
     "exception": false,
     "start_time": "2022-01-29T08:47:45.418174",
     "status": "completed"
    },
    "tags": []
   },
   "outputs": [],
   "source": [
    "import pandas as pd\n",
    "from nltk.tokenize import word_tokenize\n",
    "from nltk.corpus import stopwords\n",
    "import string\n",
    "\n",
    "train_data = pd.read_csv('../input/news-headline/train.csv', names=['news','sentiment'], header=None)\n",
    "val_data = pd.read_csv('../input/news-headline/validation.csv', names=['news','sentiment'], header=None)\n",
    "test_data = pd.read_csv('../input/news-headline/test.csv', names=['news','sentiment'], header=None)\n",
    "\n",
    "stop_words = set(stopwords.words('english'))\n",
    "stop_words -= {\n",
    "    \"don\", \"hadn't\", \"hasn\", \"didn't\", \"aren't\", \"needn't\", \"couldn't\", \n",
    "    \"haven\", \"down\", \"weren't\", \"weren\", \"doesn\", \"couldn\", \"don't\", \n",
    "    \"mightn't\", \"hasn't\", \"off\", \"wasn\", \"mustn\", \"hadn\", \"didn\", \"up\",\n",
    "    \"shan't\", \"isn\", \"mightn\", \"mustn't\", \"shouldn't\", \"doesn't\", \"no\", \n",
    "    \"not\", \"haven't\", \"wouldn\", \"won't\", \"wouldn't\", \"shouldn\", \"aren\", \n",
    "    \"isn't\", \"wasn't\", \"ain\", \"under\", \"needn\", \"shan\", \"above\"\n",
    "}\n",
    "\n",
    "def clean_text(text):\n",
    "    words = word_tokenize(text)\n",
    "    words = [w.lower() for w in words]\n",
    "    \n",
    "    translator = str.maketrans('', '', string.punctuation)\n",
    "    words = [w.translate(translator) for w in words]\n",
    "    \n",
    "    words = [w for w in words if w.isalpha()]\n",
    "    words = [w for w in words if w not in stop_words]\n",
    "    return ' '.join(words)\n",
    "    \n",
    "train_data['news'] = train_data['news'].apply(clean_text)\n",
    "val_data['news'] = val_data['news'].apply(clean_text)\n",
    "test_data['news'] = test_data['news'].apply(clean_text)"
   ]
  },
  {
   "cell_type": "markdown",
   "id": "732bf052",
   "metadata": {
    "papermill": {
     "duration": 0.02247,
     "end_time": "2022-01-29T08:48:00.203867",
     "exception": false,
     "start_time": "2022-01-29T08:48:00.181397",
     "status": "completed"
    },
    "tags": []
   },
   "source": [
    "### Map Values of Sentiments to Positive Numbers"
   ]
  },
  {
   "cell_type": "code",
   "execution_count": 2,
   "id": "6494ee7a",
   "metadata": {
    "execution": {
     "iopub.execute_input": "2022-01-29T08:48:00.258769Z",
     "iopub.status.busy": "2022-01-29T08:48:00.258046Z",
     "iopub.status.idle": "2022-01-29T08:48:00.263114Z",
     "shell.execute_reply": "2022-01-29T08:48:00.262547Z"
    },
    "papermill": {
     "duration": 0.035309,
     "end_time": "2022-01-29T08:48:00.263296",
     "exception": false,
     "start_time": "2022-01-29T08:48:00.227987",
     "status": "completed"
    },
    "tags": []
   },
   "outputs": [],
   "source": [
    "# negative: 0, neutral: 1, positive: 2\n",
    "train_data['sentiment'] += 1\n",
    "val_data['sentiment'] += 1\n",
    "test_data['sentiment'] += 1"
   ]
  },
  {
   "cell_type": "code",
   "execution_count": 3,
   "id": "6abdd023",
   "metadata": {
    "execution": {
     "iopub.execute_input": "2022-01-29T08:48:00.318734Z",
     "iopub.status.busy": "2022-01-29T08:48:00.317684Z",
     "iopub.status.idle": "2022-01-29T08:48:00.330033Z",
     "shell.execute_reply": "2022-01-29T08:48:00.330608Z"
    },
    "papermill": {
     "duration": 0.044036,
     "end_time": "2022-01-29T08:48:00.330809",
     "exception": false,
     "start_time": "2022-01-29T08:48:00.286773",
     "status": "completed"
    },
    "tags": []
   },
   "outputs": [
    {
     "data": {
      "text/html": [
       "<div>\n",
       "<style scoped>\n",
       "    .dataframe tbody tr th:only-of-type {\n",
       "        vertical-align: middle;\n",
       "    }\n",
       "\n",
       "    .dataframe tbody tr th {\n",
       "        vertical-align: top;\n",
       "    }\n",
       "\n",
       "    .dataframe thead th {\n",
       "        text-align: right;\n",
       "    }\n",
       "</style>\n",
       "<table border=\"1\" class=\"dataframe\">\n",
       "  <thead>\n",
       "    <tr style=\"text-align: right;\">\n",
       "      <th></th>\n",
       "      <th>news</th>\n",
       "      <th>sentiment</th>\n",
       "    </tr>\n",
       "  </thead>\n",
       "  <tbody>\n",
       "    <tr>\n",
       "      <th>0</th>\n",
       "      <td>dr interim pm agong accepts resignation</td>\n",
       "      <td>1</td>\n",
       "    </tr>\n",
       "    <tr>\n",
       "      <th>1</th>\n",
       "      <td>mmag jets targets annual cargo volume grow fiv...</td>\n",
       "      <td>2</td>\n",
       "    </tr>\n",
       "    <tr>\n",
       "      <th>2</th>\n",
       "      <td>civil servants continue provide quality effect...</td>\n",
       "      <td>1</td>\n",
       "    </tr>\n",
       "    <tr>\n",
       "      <th>3</th>\n",
       "      <td>klci falls tracks regional decline</td>\n",
       "      <td>0</td>\n",
       "    </tr>\n",
       "    <tr>\n",
       "      <th>4</th>\n",
       "      <td>anzo showing signs developing rebound rhb reta...</td>\n",
       "      <td>1</td>\n",
       "    </tr>\n",
       "  </tbody>\n",
       "</table>\n",
       "</div>"
      ],
      "text/plain": [
       "                                                news  sentiment\n",
       "0            dr interim pm agong accepts resignation          1\n",
       "1  mmag jets targets annual cargo volume grow fiv...          2\n",
       "2  civil servants continue provide quality effect...          1\n",
       "3                 klci falls tracks regional decline          0\n",
       "4  anzo showing signs developing rebound rhb reta...          1"
      ]
     },
     "execution_count": 3,
     "metadata": {},
     "output_type": "execute_result"
    }
   ],
   "source": [
    "train_data.head()"
   ]
  },
  {
   "cell_type": "markdown",
   "id": "88f102fe",
   "metadata": {
    "papermill": {
     "duration": 0.023481,
     "end_time": "2022-01-29T08:48:00.378556",
     "exception": false,
     "start_time": "2022-01-29T08:48:00.355075",
     "status": "completed"
    },
    "tags": []
   },
   "source": [
    "### Read Pretrained Embeddings"
   ]
  },
  {
   "cell_type": "code",
   "execution_count": 4,
   "id": "0b184d5d",
   "metadata": {
    "execution": {
     "iopub.execute_input": "2022-01-29T08:48:00.437060Z",
     "iopub.status.busy": "2022-01-29T08:48:00.436376Z",
     "iopub.status.idle": "2022-01-29T08:51:16.471195Z",
     "shell.execute_reply": "2022-01-29T08:51:16.471785Z"
    },
    "papermill": {
     "duration": 196.069173,
     "end_time": "2022-01-29T08:51:16.472011",
     "exception": false,
     "start_time": "2022-01-29T08:48:00.402838",
     "status": "completed"
    },
    "tags": []
   },
   "outputs": [
    {
     "name": "stdout",
     "output_type": "stream",
     "text": [
      "Loaded 1917494 word vectors.\n"
     ]
    }
   ],
   "source": [
    "import numpy as np\n",
    "\n",
    "embeddings_index = dict()\n",
    "embedding_dim = 300\n",
    "\n",
    "with open('../input/glove42b300dtxt/glove.42B.300d.txt') as f:\n",
    "    for line in f:\n",
    "        word, coefs = line.split(maxsplit=1)\n",
    "        coefs = np.fromstring(coefs, \"f\", sep=\" \")\n",
    "        embeddings_index[word] = coefs\n",
    "\n",
    "print(f'Loaded {len(embeddings_index)} word vectors.')"
   ]
  },
  {
   "cell_type": "markdown",
   "id": "7dfc5edf",
   "metadata": {
    "papermill": {
     "duration": 0.024943,
     "end_time": "2022-01-29T08:51:16.522010",
     "exception": false,
     "start_time": "2022-01-29T08:51:16.497067",
     "status": "completed"
    },
    "tags": []
   },
   "source": [
    "### Initialize Tokenizer"
   ]
  },
  {
   "cell_type": "code",
   "execution_count": 5,
   "id": "a8b985ff",
   "metadata": {
    "execution": {
     "iopub.execute_input": "2022-01-29T08:51:16.578837Z",
     "iopub.status.busy": "2022-01-29T08:51:16.577903Z",
     "iopub.status.idle": "2022-01-29T08:51:23.000500Z",
     "shell.execute_reply": "2022-01-29T08:51:22.999876Z"
    },
    "papermill": {
     "duration": 6.453812,
     "end_time": "2022-01-29T08:51:23.000683",
     "exception": false,
     "start_time": "2022-01-29T08:51:16.546871",
     "status": "completed"
    },
    "tags": []
   },
   "outputs": [
    {
     "name": "stdout",
     "output_type": "stream",
     "text": [
      "Vocabulary Size: 22898 words\n"
     ]
    }
   ],
   "source": [
    "from keras.preprocessing.text import Tokenizer\n",
    "\n",
    "tokenizer = Tokenizer()\n",
    "tokenizer.fit_on_texts(train_data['news'])\n",
    "word_index = tokenizer.word_index\n",
    "vocab_size = len(word_index) + 1\n",
    "print(f'Vocabulary Size: {vocab_size} words')"
   ]
  },
  {
   "cell_type": "markdown",
   "id": "e1230e16",
   "metadata": {
    "papermill": {
     "duration": 0.023837,
     "end_time": "2022-01-29T08:51:23.048424",
     "exception": false,
     "start_time": "2022-01-29T08:51:23.024587",
     "status": "completed"
    },
    "tags": []
   },
   "source": [
    "### Create Embedding Matrix for News Dataset"
   ]
  },
  {
   "cell_type": "code",
   "execution_count": 6,
   "id": "d0533f21",
   "metadata": {
    "execution": {
     "iopub.execute_input": "2022-01-29T08:51:23.104795Z",
     "iopub.status.busy": "2022-01-29T08:51:23.103720Z",
     "iopub.status.idle": "2022-01-29T08:51:23.193480Z",
     "shell.execute_reply": "2022-01-29T08:51:23.192611Z"
    },
    "papermill": {
     "duration": 0.120263,
     "end_time": "2022-01-29T08:51:23.193667",
     "exception": false,
     "start_time": "2022-01-29T08:51:23.073404",
     "status": "completed"
    },
    "tags": []
   },
   "outputs": [
    {
     "name": "stdout",
     "output_type": "stream",
     "text": [
      "Converted 19560 words (3337 misses)\n"
     ]
    }
   ],
   "source": [
    "hits = 0\n",
    "misses = 0\n",
    "\n",
    "embedding_matrix = np.zeros((vocab_size, embedding_dim))\n",
    "\n",
    "for word, i in word_index.items():\n",
    "    embedding_vector = embeddings_index.get(word)\n",
    "\n",
    "    if embedding_vector is not None:\n",
    "        embedding_matrix[i] = embedding_vector\n",
    "        hits += 1\n",
    "    else:\n",
    "        misses += 1\n",
    "\n",
    "print(f'Converted {hits} words ({misses} misses)')"
   ]
  },
  {
   "cell_type": "markdown",
   "id": "5e80dc49",
   "metadata": {
    "papermill": {
     "duration": 0.024278,
     "end_time": "2022-01-29T08:51:23.243621",
     "exception": false,
     "start_time": "2022-01-29T08:51:23.219343",
     "status": "completed"
    },
    "tags": []
   },
   "source": [
    "### Data Preparation"
   ]
  },
  {
   "cell_type": "code",
   "execution_count": 7,
   "id": "6616b276",
   "metadata": {
    "execution": {
     "iopub.execute_input": "2022-01-29T08:51:23.301854Z",
     "iopub.status.busy": "2022-01-29T08:51:23.300874Z",
     "iopub.status.idle": "2022-01-29T08:51:25.281194Z",
     "shell.execute_reply": "2022-01-29T08:51:25.282479Z"
    },
    "papermill": {
     "duration": 2.014332,
     "end_time": "2022-01-29T08:51:25.282744",
     "exception": false,
     "start_time": "2022-01-29T08:51:23.268412",
     "status": "completed"
    },
    "tags": []
   },
   "outputs": [
    {
     "name": "stdout",
     "output_type": "stream",
     "text": [
      "Average words per sentence: 7.06 words\n",
      "Maximum words: 53\n"
     ]
    }
   ],
   "source": [
    "from tensorflow.keras.preprocessing.sequence import pad_sequences\n",
    "\n",
    "train_sequences = tokenizer.texts_to_sequences(train_data['news'])\n",
    "avg_words = sum([len(ts) for ts in train_sequences])/len(train_sequences)\n",
    "max_seq_len = len(max(train_sequences, key=len)) \n",
    "train_sequences = pad_sequences(train_sequences, maxlen=max_seq_len, padding='post')    \n",
    "\n",
    "x_train = train_sequences\n",
    "y_train = train_data['sentiment'].to_numpy()\n",
    "\n",
    "print(f'Average words per sentence: {avg_words:.2f} words')\n",
    "print(f'Maximum words: {max_seq_len}')"
   ]
  },
  {
   "cell_type": "code",
   "execution_count": 8,
   "id": "0e6bae92",
   "metadata": {
    "execution": {
     "iopub.execute_input": "2022-01-29T08:51:25.384893Z",
     "iopub.status.busy": "2022-01-29T08:51:25.383770Z",
     "iopub.status.idle": "2022-01-29T08:51:25.388332Z",
     "shell.execute_reply": "2022-01-29T08:51:25.387543Z"
    },
    "papermill": {
     "duration": 0.066093,
     "end_time": "2022-01-29T08:51:25.388501",
     "exception": false,
     "start_time": "2022-01-29T08:51:25.322408",
     "status": "completed"
    },
    "tags": []
   },
   "outputs": [],
   "source": [
    "val_sequences = tokenizer.texts_to_sequences(val_data['news'])\n",
    "val_sequences = pad_sequences(val_sequences, maxlen=max_seq_len, padding='post')\n",
    "\n",
    "x_val = val_sequences\n",
    "y_val = val_data['sentiment'].to_numpy()"
   ]
  },
  {
   "cell_type": "code",
   "execution_count": 9,
   "id": "91072db8",
   "metadata": {
    "execution": {
     "iopub.execute_input": "2022-01-29T08:51:25.478135Z",
     "iopub.status.busy": "2022-01-29T08:51:25.477249Z",
     "iopub.status.idle": "2022-01-29T08:51:25.481772Z",
     "shell.execute_reply": "2022-01-29T08:51:25.480777Z"
    },
    "papermill": {
     "duration": 0.066933,
     "end_time": "2022-01-29T08:51:25.481927",
     "exception": false,
     "start_time": "2022-01-29T08:51:25.414994",
     "status": "completed"
    },
    "tags": []
   },
   "outputs": [],
   "source": [
    "test_sequences = tokenizer.texts_to_sequences(test_data['news'])\n",
    "test_sequences = pad_sequences(test_sequences, maxlen=max_seq_len, padding='post')\n",
    "\n",
    "x_test = test_sequences\n",
    "y_test = test_data['sentiment'].to_numpy()"
   ]
  },
  {
   "cell_type": "markdown",
   "id": "59cd3724",
   "metadata": {
    "papermill": {
     "duration": 0.025935,
     "end_time": "2022-01-29T08:51:25.533588",
     "exception": false,
     "start_time": "2022-01-29T08:51:25.507653",
     "status": "completed"
    },
    "tags": []
   },
   "source": [
    "### Build the Model"
   ]
  },
  {
   "cell_type": "code",
   "execution_count": 10,
   "id": "69f4215c",
   "metadata": {
    "execution": {
     "iopub.execute_input": "2022-01-29T08:51:25.594063Z",
     "iopub.status.busy": "2022-01-29T08:51:25.592904Z",
     "iopub.status.idle": "2022-01-29T08:51:29.256408Z",
     "shell.execute_reply": "2022-01-29T08:51:29.257853Z"
    },
    "papermill": {
     "duration": 3.698706,
     "end_time": "2022-01-29T08:51:29.258125",
     "exception": false,
     "start_time": "2022-01-29T08:51:25.559419",
     "status": "completed"
    },
    "tags": []
   },
   "outputs": [
    {
     "name": "stderr",
     "output_type": "stream",
     "text": [
      "2022-01-29 08:51:25.683651: I tensorflow/stream_executor/cuda/cuda_gpu_executor.cc:937] successful NUMA node read from SysFS had negative value (-1), but there must be at least one NUMA node, so returning NUMA node zero\n",
      "2022-01-29 08:51:25.797501: I tensorflow/stream_executor/cuda/cuda_gpu_executor.cc:937] successful NUMA node read from SysFS had negative value (-1), but there must be at least one NUMA node, so returning NUMA node zero\n",
      "2022-01-29 08:51:25.798595: I tensorflow/stream_executor/cuda/cuda_gpu_executor.cc:937] successful NUMA node read from SysFS had negative value (-1), but there must be at least one NUMA node, so returning NUMA node zero\n",
      "2022-01-29 08:51:25.801200: I tensorflow/core/platform/cpu_feature_guard.cc:142] This TensorFlow binary is optimized with oneAPI Deep Neural Network Library (oneDNN) to use the following CPU instructions in performance-critical operations:  AVX2 FMA\n",
      "To enable them in other operations, rebuild TensorFlow with the appropriate compiler flags.\n",
      "2022-01-29 08:51:25.802773: I tensorflow/stream_executor/cuda/cuda_gpu_executor.cc:937] successful NUMA node read from SysFS had negative value (-1), but there must be at least one NUMA node, so returning NUMA node zero\n",
      "2022-01-29 08:51:25.804123: I tensorflow/stream_executor/cuda/cuda_gpu_executor.cc:937] successful NUMA node read from SysFS had negative value (-1), but there must be at least one NUMA node, so returning NUMA node zero\n",
      "2022-01-29 08:51:25.805578: I tensorflow/stream_executor/cuda/cuda_gpu_executor.cc:937] successful NUMA node read from SysFS had negative value (-1), but there must be at least one NUMA node, so returning NUMA node zero\n",
      "2022-01-29 08:51:28.175597: I tensorflow/stream_executor/cuda/cuda_gpu_executor.cc:937] successful NUMA node read from SysFS had negative value (-1), but there must be at least one NUMA node, so returning NUMA node zero\n",
      "2022-01-29 08:51:28.176733: I tensorflow/stream_executor/cuda/cuda_gpu_executor.cc:937] successful NUMA node read from SysFS had negative value (-1), but there must be at least one NUMA node, so returning NUMA node zero\n",
      "2022-01-29 08:51:28.177854: I tensorflow/stream_executor/cuda/cuda_gpu_executor.cc:937] successful NUMA node read from SysFS had negative value (-1), but there must be at least one NUMA node, so returning NUMA node zero\n",
      "2022-01-29 08:51:28.178835: I tensorflow/core/common_runtime/gpu/gpu_device.cc:1510] Created device /job:localhost/replica:0/task:0/device:GPU:0 with 15403 MB memory:  -> device: 0, name: Tesla P100-PCIE-16GB, pci bus id: 0000:00:04.0, compute capability: 6.0\n"
     ]
    },
    {
     "name": "stdout",
     "output_type": "stream",
     "text": [
      "Model: \"model\"\n",
      "_________________________________________________________________\n",
      "Layer (type)                 Output Shape              Param #   \n",
      "=================================================================\n",
      "input_1 (InputLayer)         [(None, 53)]              0         \n",
      "_________________________________________________________________\n",
      "embedding (Embedding)        (None, 53, 300)           6869400   \n",
      "_________________________________________________________________\n",
      "bidirectional (Bidirectional (None, 53, 16)            19776     \n",
      "_________________________________________________________________\n",
      "bidirectional_1 (Bidirection (None, 8)                 672       \n",
      "_________________________________________________________________\n",
      "dense (Dense)                (None, 3)                 27        \n",
      "=================================================================\n",
      "Total params: 6,889,875\n",
      "Trainable params: 20,475\n",
      "Non-trainable params: 6,869,400\n",
      "_________________________________________________________________\n"
     ]
    }
   ],
   "source": [
    "from tensorflow import keras\n",
    "from tensorflow.keras.layers import Embedding\n",
    "from tensorflow.keras import layers\n",
    "\n",
    "inputs = keras.Input(shape=(max_seq_len,))\n",
    "x = Embedding(\n",
    "    input_dim=vocab_size,\n",
    "    output_dim=embedding_dim,\n",
    "    embeddings_initializer=keras.initializers.Constant(embedding_matrix),\n",
    "    mask_zero=True,\n",
    "    trainable=False,\n",
    ")(inputs)\n",
    "x = layers.Bidirectional(layers.LSTM(\n",
    "    8, \n",
    "    return_sequences=True,\n",
    "    dropout=0.2,\n",
    "    recurrent_dropout=0.1,\n",
    "))(x)\n",
    "x = layers.Bidirectional(layers.LSTM(\n",
    "    4,\n",
    "    dropout=0.2,\n",
    "    recurrent_dropout=0.1,\n",
    "))(x)\n",
    "outputs = layers.Dense(3, activation='softmax')(x)\n",
    "\n",
    "model = keras.Model(inputs, outputs)\n",
    "model.summary()"
   ]
  },
  {
   "cell_type": "markdown",
   "id": "2205eb11",
   "metadata": {
    "papermill": {
     "duration": 0.028325,
     "end_time": "2022-01-29T08:51:29.314472",
     "exception": false,
     "start_time": "2022-01-29T08:51:29.286147",
     "status": "completed"
    },
    "tags": []
   },
   "source": [
    "###  Visualize the Model"
   ]
  },
  {
   "cell_type": "code",
   "execution_count": 11,
   "id": "9483fb54",
   "metadata": {
    "_kg_hide-output": true,
    "execution": {
     "iopub.execute_input": "2022-01-29T08:51:29.378398Z",
     "iopub.status.busy": "2022-01-29T08:51:29.377385Z",
     "iopub.status.idle": "2022-01-29T08:51:30.443183Z",
     "shell.execute_reply": "2022-01-29T08:51:30.442178Z"
    },
    "papermill": {
     "duration": 1.100856,
     "end_time": "2022-01-29T08:51:30.443430",
     "exception": false,
     "start_time": "2022-01-29T08:51:29.342574",
     "status": "completed"
    },
    "tags": []
   },
   "outputs": [
    {
     "data": {
      "image/png": "[encoded data removed]",
      "text/plain": [
       "<IPython.core.display.Image object>"
      ]
     },
     "execution_count": 11,
     "metadata": {},
     "output_type": "execute_result"
    }
   ],
   "source": [
    "from keras.utils.vis_utils import plot_model\n",
    "\n",
    "plot_model(model, to_file='model_plot.png', show_shapes=True, rankdir='LR')"
   ]
  },
  {
   "cell_type": "markdown",
   "id": "052d9877",
   "metadata": {
    "papermill": {
     "duration": 0.028,
     "end_time": "2022-01-29T08:51:30.500600",
     "exception": false,
     "start_time": "2022-01-29T08:51:30.472600",
     "status": "completed"
    },
    "tags": []
   },
   "source": [
    "### Configure Callbacks for Plotting Model Performance"
   ]
  },
  {
   "cell_type": "code",
   "execution_count": 12,
   "id": "e55a5c40",
   "metadata": {
    "execution": {
     "iopub.execute_input": "2022-01-29T08:51:30.567461Z",
     "iopub.status.busy": "2022-01-29T08:51:30.566735Z",
     "iopub.status.idle": "2022-01-29T08:51:30.571250Z",
     "shell.execute_reply": "2022-01-29T08:51:30.571785Z"
    },
    "papermill": {
     "duration": 0.042522,
     "end_time": "2022-01-29T08:51:30.571956",
     "exception": false,
     "start_time": "2022-01-29T08:51:30.529434",
     "status": "completed"
    },
    "tags": []
   },
   "outputs": [],
   "source": [
    "from keras.callbacks import Callback\n",
    "\n",
    "class Histories(Callback):\n",
    "    \n",
    "    def on_train_begin(self,logs={}):\n",
    "        self.accs = []\n",
    "        self.losses = []\n",
    "\n",
    "    def on_batch_end(self, batch, logs={}):\n",
    "        self.accs.append(logs.get('accuracy'))\n",
    "        self.losses.append(logs.get('loss'))\n",
    "\n",
    "histories = Histories()"
   ]
  },
  {
   "cell_type": "markdown",
   "id": "c7c7e06f",
   "metadata": {
    "papermill": {
     "duration": 0.028548,
     "end_time": "2022-01-29T08:51:30.628907",
     "exception": false,
     "start_time": "2022-01-29T08:51:30.600359",
     "status": "completed"
    },
    "tags": []
   },
   "source": [
    "### Train the Model"
   ]
  },
  {
   "cell_type": "code",
   "execution_count": 13,
   "id": "52c0d1dd",
   "metadata": {
    "execution": {
     "iopub.execute_input": "2022-01-29T08:51:30.701633Z",
     "iopub.status.busy": "2022-01-29T08:51:30.700472Z",
     "iopub.status.idle": "2022-01-29T11:09:05.438281Z",
     "shell.execute_reply": "2022-01-29T11:09:05.436984Z"
    },
    "papermill": {
     "duration": 8254.781066,
     "end_time": "2022-01-29T11:09:05.438546",
     "exception": false,
     "start_time": "2022-01-29T08:51:30.657480",
     "status": "completed"
    },
    "tags": []
   },
   "outputs": [
    {
     "name": "stderr",
     "output_type": "stream",
     "text": [
      "2022-01-29 08:51:30.781398: I tensorflow/compiler/mlir/mlir_graph_optimization_pass.cc:185] None of the MLIR Optimization Passes are enabled (registered 2)\n"
     ]
    },
    {
     "name": "stdout",
     "output_type": "stream",
     "text": [
      "Epoch 1/20\n",
      "241/241 [==============================] - 409s 2s/step - loss: 0.8312 - accuracy: 0.6157 - val_loss: 0.8579 - val_accuracy: 0.5610\n",
      "Epoch 2/20\n",
      "241/241 [==============================] - 398s 2s/step - loss: 0.7300 - accuracy: 0.6808 - val_loss: 0.8837 - val_accuracy: 0.5640\n",
      "Epoch 3/20\n",
      "241/241 [==============================] - 399s 2s/step - loss: 0.7007 - accuracy: 0.6987 - val_loss: 0.8816 - val_accuracy: 0.5520\n",
      "Epoch 4/20\n",
      "241/241 [==============================] - 399s 2s/step - loss: 0.6827 - accuracy: 0.7106 - val_loss: 0.8554 - val_accuracy: 0.5710\n",
      "Epoch 5/20\n",
      "241/241 [==============================] - 400s 2s/step - loss: 0.6704 - accuracy: 0.7172 - val_loss: 0.9100 - val_accuracy: 0.5490\n",
      "Epoch 6/20\n",
      "241/241 [==============================] - 404s 2s/step - loss: 0.6593 - accuracy: 0.7226 - val_loss: 0.8698 - val_accuracy: 0.5780\n",
      "Epoch 7/20\n",
      "241/241 [==============================] - 400s 2s/step - loss: 0.6526 - accuracy: 0.7238 - val_loss: 0.9038 - val_accuracy: 0.5510\n",
      "Epoch 8/20\n",
      "241/241 [==============================] - 406s 2s/step - loss: 0.6446 - accuracy: 0.7303 - val_loss: 0.8901 - val_accuracy: 0.5750\n",
      "Epoch 9/20\n",
      "241/241 [==============================] - 403s 2s/step - loss: 0.6403 - accuracy: 0.7302 - val_loss: 0.9262 - val_accuracy: 0.5580\n",
      "Epoch 10/20\n",
      "241/241 [==============================] - 413s 2s/step - loss: 0.6363 - accuracy: 0.7336 - val_loss: 0.9227 - val_accuracy: 0.5640\n",
      "Epoch 11/20\n",
      "241/241 [==============================] - 416s 2s/step - loss: 0.6328 - accuracy: 0.7352 - val_loss: 0.9432 - val_accuracy: 0.5510\n",
      "Epoch 12/20\n",
      "241/241 [==============================] - 413s 2s/step - loss: 0.6328 - accuracy: 0.7338 - val_loss: 0.9389 - val_accuracy: 0.5490\n",
      "Epoch 13/20\n",
      "241/241 [==============================] - 413s 2s/step - loss: 0.6286 - accuracy: 0.7378 - val_loss: 0.9397 - val_accuracy: 0.5560\n",
      "Epoch 14/20\n",
      "241/241 [==============================] - 413s 2s/step - loss: 0.6241 - accuracy: 0.7390 - val_loss: 0.9337 - val_accuracy: 0.5640\n",
      "Epoch 15/20\n",
      "241/241 [==============================] - 415s 2s/step - loss: 0.6241 - accuracy: 0.7394 - val_loss: 0.9377 - val_accuracy: 0.5640\n",
      "Epoch 16/20\n",
      "241/241 [==============================] - 416s 2s/step - loss: 0.6219 - accuracy: 0.7397 - val_loss: 0.9208 - val_accuracy: 0.5740\n",
      "Epoch 17/20\n",
      "241/241 [==============================] - 416s 2s/step - loss: 0.6189 - accuracy: 0.7427 - val_loss: 0.9192 - val_accuracy: 0.5790\n",
      "Epoch 18/20\n",
      "241/241 [==============================] - 422s 2s/step - loss: 0.6168 - accuracy: 0.7439 - val_loss: 0.9645 - val_accuracy: 0.5540\n",
      "Epoch 19/20\n",
      "241/241 [==============================] - 423s 2s/step - loss: 0.6159 - accuracy: 0.7441 - val_loss: 0.9149 - val_accuracy: 0.5720\n",
      "Epoch 20/20\n",
      "241/241 [==============================] - 426s 2s/step - loss: 0.6153 - accuracy: 0.7419 - val_loss: 0.9260 - val_accuracy: 0.5670\n"
     ]
    }
   ],
   "source": [
    "model.compile(\n",
    "    optimizer=keras.optimizers.Adam(learning_rate=5E-3),\n",
    "    loss='sparse_categorical_crossentropy', \n",
    "    metrics=['accuracy'],\n",
    ")\n",
    "\n",
    "batch_size=256\n",
    "history = model.fit(\n",
    "    x_train,\n",
    "    y_train,\n",
    "    validation_data=(x_val,y_val),\n",
    "    batch_size=batch_size,\n",
    "    epochs=20,\n",
    "    callbacks=[histories]\n",
    ")"
   ]
  },
  {
   "cell_type": "code",
   "execution_count": 14,
   "id": "ef230640",
   "metadata": {
    "execution": {
     "iopub.execute_input": "2022-01-29T11:09:09.768503Z",
     "iopub.status.busy": "2022-01-29T11:09:09.767776Z",
     "iopub.status.idle": "2022-01-29T11:09:09.776004Z",
     "shell.execute_reply": "2022-01-29T11:09:09.775326Z"
    },
    "papermill": {
     "duration": 1.719231,
     "end_time": "2022-01-29T11:09:09.776184",
     "exception": false,
     "start_time": "2022-01-29T11:09:08.056953",
     "status": "completed"
    },
    "tags": []
   },
   "outputs": [
    {
     "name": "stdout",
     "output_type": "stream",
     "text": [
      "Training Accuracy: 74.19%\n",
      "Traning Loss: 0.6153\n",
      "Validation Accuracy: 56.70%\n",
      "Validation Loss: 0.9260\n"
     ]
    }
   ],
   "source": [
    "train_accuracy = history.history['accuracy'][-1] * 100\n",
    "train_loss = history.history['loss'][-1]\n",
    "val_accuracy = history.history['val_accuracy'][-1] * 100\n",
    "val_loss = history.history['val_loss'][-1]\n",
    "\n",
    "print(f'Training Accuracy: {train_accuracy:.2f}%')\n",
    "print(f'Traning Loss: {train_loss:.4f}')\n",
    "print(f'Validation Accuracy: {val_accuracy:.2f}%')\n",
    "print(f'Validation Loss: {val_loss:.4f}')"
   ]
  },
  {
   "cell_type": "markdown",
   "id": "912456a9",
   "metadata": {
    "papermill": {
     "duration": 1.726485,
     "end_time": "2022-01-29T11:09:13.204977",
     "exception": false,
     "start_time": "2022-01-29T11:09:11.478492",
     "status": "completed"
    },
    "tags": []
   },
   "source": [
    "### Plot Accuracy and Loss of the Model"
   ]
  },
  {
   "cell_type": "code",
   "execution_count": 15,
   "id": "6714a808",
   "metadata": {
    "execution": {
     "iopub.execute_input": "2022-01-29T11:09:16.769621Z",
     "iopub.status.busy": "2022-01-29T11:09:16.768392Z",
     "iopub.status.idle": "2022-01-29T11:09:17.566470Z",
     "shell.execute_reply": "2022-01-29T11:09:17.567436Z"
    },
    "papermill": {
     "duration": 2.593555,
     "end_time": "2022-01-29T11:09:17.567625",
     "exception": false,
     "start_time": "2022-01-29T11:09:14.974070",
     "status": "completed"
    },
    "tags": []
   },
   "outputs": [
    {
     "data": {
      "image/png": "[encoded data removed]",
      "text/plain": [
       "<Figure size 648x504 with 2 Axes>"
      ]
     },
     "metadata": {
      "needs_background": "light"
     },
     "output_type": "display_data"
    }
   ],
   "source": [
    "import matplotlib.pyplot as plt\n",
    "\n",
    "train_accs = [y*100 for y in histories.accs]\n",
    "train_losses = [y for y in histories.losses]\n",
    "\n",
    "val_accs = [y*100 for y in history.history['val_accuracy']]\n",
    "val_accs.insert(0, 0)\n",
    "\n",
    "val_losses = [y for y in history.history['val_loss']]\n",
    "val_losses.insert(0, 0)\n",
    "\n",
    "fig, ax1 = plt.subplots(figsize=(9,7))\n",
    "ax1.set_xlabel('Iteration')\n",
    "ax1.set_ylabel('Accuracy (%)')\n",
    "\n",
    "xlim = (0, len(train_accs))\n",
    "xticks = [xt for xt in range(xlim[0], xlim[1], 1000)]\n",
    "xticks.append(xlim[1])\n",
    "ax1.set_xlim(xlim)\n",
    "ax1.set_xticks(xticks)\n",
    "\n",
    "x_train = [i for i in range(xlim[0], xlim[1], 1)]\n",
    "x_val = [i for i in range(xlim[0], xlim[1], round(xlim[1]/20))]\n",
    "x_val.append(xlim[1])\n",
    "\n",
    "ax1.plot(x_train, train_accs, 'b', label='Training Accuracy')\n",
    "ax1.plot(x_val, val_accs, 'r', label='Validation Accuracy')\n",
    "\n",
    "ax2 = ax1.twinx()\n",
    "ax2.set_ylabel('Loss')\n",
    "\n",
    "ax2.plot(x_train, train_losses, 'g', label='Training Loss')\n",
    "ax2.plot(x_val, val_losses, 'm', label='Validation Loss')\n",
    "\n",
    "fig.tight_layout()\n",
    "plt.title('Accuracy and Loss Curves of Bidirectional LSTM Model', fontweight='bold')\n",
    "fig.legend(loc=\"center right\", bbox_to_anchor=(1,0.7), bbox_transform=ax1.transAxes)\n",
    "plt.savefig('performance.svg')\n",
    "plt.show()"
   ]
  },
  {
   "cell_type": "markdown",
   "id": "ab5ee4df",
   "metadata": {
    "papermill": {
     "duration": 1.715431,
     "end_time": "2022-01-29T11:09:21.005529",
     "exception": false,
     "start_time": "2022-01-29T11:09:19.290098",
     "status": "completed"
    },
    "tags": []
   },
   "source": [
    "### Save the Model"
   ]
  },
  {
   "cell_type": "code",
   "execution_count": 16,
   "id": "a99e8b58",
   "metadata": {
    "execution": {
     "iopub.execute_input": "2022-01-29T11:09:24.414912Z",
     "iopub.status.busy": "2022-01-29T11:09:24.414168Z",
     "iopub.status.idle": "2022-01-29T11:09:32.244524Z",
     "shell.execute_reply": "2022-01-29T11:09:32.243905Z"
    },
    "papermill": {
     "duration": 9.513967,
     "end_time": "2022-01-29T11:09:32.244696",
     "exception": false,
     "start_time": "2022-01-29T11:09:22.730729",
     "status": "completed"
    },
    "tags": []
   },
   "outputs": [],
   "source": [
    "model.save('bi_lstm_model.h5')"
   ]
  },
  {
   "cell_type": "markdown",
   "id": "4f537cfc",
   "metadata": {
    "papermill": {
     "duration": 1.729406,
     "end_time": "2022-01-29T11:09:35.796827",
     "exception": false,
     "start_time": "2022-01-29T11:09:34.067421",
     "status": "completed"
    },
    "tags": []
   },
   "source": [
    "### Load the Model"
   ]
  },
  {
   "cell_type": "code",
   "execution_count": 17,
   "id": "7133cbbf",
   "metadata": {
    "execution": {
     "iopub.execute_input": "2022-01-29T11:09:40.278153Z",
     "iopub.status.busy": "2022-01-29T11:09:40.275897Z",
     "iopub.status.idle": "2022-01-29T11:09:40.279058Z",
     "shell.execute_reply": "2022-01-29T11:09:40.279715Z"
    },
    "papermill": {
     "duration": 2.752242,
     "end_time": "2022-01-29T11:09:40.279896",
     "exception": false,
     "start_time": "2022-01-29T11:09:37.527654",
     "status": "completed"
    },
    "tags": []
   },
   "outputs": [],
   "source": [
    "# model = keras.models.load_model('./bi_lstm_model.h5')"
   ]
  },
  {
   "cell_type": "markdown",
   "id": "910c0f62",
   "metadata": {
    "papermill": {
     "duration": 1.729461,
     "end_time": "2022-01-29T11:09:43.724602",
     "exception": false,
     "start_time": "2022-01-29T11:09:41.995141",
     "status": "completed"
    },
    "tags": []
   },
   "source": [
    "### Evaluate the Model"
   ]
  },
  {
   "cell_type": "code",
   "execution_count": 18,
   "id": "941fabf4",
   "metadata": {
    "execution": {
     "iopub.execute_input": "2022-01-29T11:09:47.222643Z",
     "iopub.status.busy": "2022-01-29T11:09:47.221597Z",
     "iopub.status.idle": "2022-01-29T11:09:47.605981Z",
     "shell.execute_reply": "2022-01-29T11:09:47.605047Z"
    },
    "papermill": {
     "duration": 2.175573,
     "end_time": "2022-01-29T11:09:47.606151",
     "exception": false,
     "start_time": "2022-01-29T11:09:45.430578",
     "status": "completed"
    },
    "tags": []
   },
   "outputs": [
    {
     "name": "stdout",
     "output_type": "stream",
     "text": [
      "Test Accuracy: 60.40%\n",
      "Test Loss: 0.85360\n"
     ]
    }
   ],
   "source": [
    "test_loss, test_accuracy = model.evaluate(\n",
    "    x_test,\n",
    "    y_test,\n",
    "    batch_size=batch_size,\n",
    "    verbose=0\n",
    ")\n",
    "\n",
    "print(f'Test Accuracy: {test_accuracy*100:.2f}%')\n",
    "print(f'Test Loss: {test_loss:.5f}')"
   ]
  },
  {
   "cell_type": "code",
   "execution_count": 19,
   "id": "e4018a85",
   "metadata": {
    "execution": {
     "iopub.execute_input": "2022-01-29T11:09:51.437848Z",
     "iopub.status.busy": "2022-01-29T11:09:51.436617Z",
     "iopub.status.idle": "2022-01-29T11:09:52.887671Z",
     "shell.execute_reply": "2022-01-29T11:09:52.888563Z"
    },
    "papermill": {
     "duration": 3.519007,
     "end_time": "2022-01-29T11:09:52.888861",
     "exception": false,
     "start_time": "2022-01-29T11:09:49.369854",
     "status": "completed"
    },
    "tags": []
   },
   "outputs": [
    {
     "name": "stdout",
     "output_type": "stream",
     "text": [
      "4/4 [==============================] - 1s 89ms/step\n",
      "              precision    recall  f1-score   support\n",
      "\n",
      "    Negative       0.67      0.65      0.66       256\n",
      "     Neutral       0.46      0.55      0.50       305\n",
      "    Positive       0.69      0.62      0.65       439\n",
      "\n",
      "    accuracy                           0.60      1000\n",
      "   macro avg       0.61      0.60      0.60      1000\n",
      "weighted avg       0.62      0.60      0.61      1000\n",
      "\n"
     ]
    }
   ],
   "source": [
    "from sklearn.metrics import classification_report\n",
    "\n",
    "y_pred = model.predict(x_test, batch_size=batch_size, verbose=1)\n",
    "y_pred = np.argmax(y_pred, axis=1)\n",
    "\n",
    "sentiments = ['Negative', 'Neutral', 'Positive']\n",
    "print(classification_report(y_test, y_pred, target_names=sentiments))"
   ]
  },
  {
   "cell_type": "code",
   "execution_count": 20,
   "id": "4e12b20a",
   "metadata": {
    "execution": {
     "iopub.execute_input": "2022-01-29T11:09:56.352345Z",
     "iopub.status.busy": "2022-01-29T11:09:56.351303Z",
     "iopub.status.idle": "2022-01-29T11:09:56.723811Z",
     "shell.execute_reply": "2022-01-29T11:09:56.722819Z"
    },
    "papermill": {
     "duration": 2.112513,
     "end_time": "2022-01-29T11:09:56.723974",
     "exception": false,
     "start_time": "2022-01-29T11:09:54.611461",
     "status": "completed"
    },
    "tags": []
   },
   "outputs": [
    {
     "data": {
      "image/png": "[encoded data removed]",
      "text/plain": [
       "<Figure size 432x288 with 2 Axes>"
      ]
     },
     "metadata": {
      "needs_background": "light"
     },
     "output_type": "display_data"
    }
   ],
   "source": [
    "from sklearn.metrics import ConfusionMatrixDisplay\n",
    "from sklearn.metrics import confusion_matrix\n",
    "\n",
    "cm = confusion_matrix(y_test, y_pred)\n",
    "cmd = ConfusionMatrixDisplay(confusion_matrix=cm, display_labels=sentiments)\n",
    "cmd.plot(cmap=plt.cm.Blues)\n",
    "cmd.ax_.set(xlabel='Predicted Sentiments', ylabel='True Sentiments')\n",
    "\n",
    "plt.title('Confusion Matrix of Bidirectional LSTM Model', fontweight='bold')\n",
    "plt.savefig('cm.svg')\n",
    "plt.show()"
   ]
  }
 ],
 "metadata": {
  "kernelspec": {
   "display_name": "Python 3",
   "language": "python",
   "name": "python3"
  },
  "language_info": {
   "codemirror_mode": {
    "name": "ipython",
    "version": 3
   },
   "file_extension": ".py",
   "mimetype": "text/x-python",
   "name": "python",
   "nbconvert_exporter": "python",
   "pygments_lexer": "ipython3",
   "version": "3.7.12"
  },
  "papermill": {
   "default_parameters": {},
   "duration": 8547.852006,
   "end_time": "2022-01-29T11:10:02.403646",
   "environment_variables": {},
   "exception": null,
   "input_path": "__notebook__.ipynb",
   "output_path": "__notebook__.ipynb",
   "parameters": {},
   "start_time": "2022-01-29T08:47:34.551640",
   "version": "2.3.3"
  }
 },
 "nbformat": 4,
 "nbformat_minor": 5
}
